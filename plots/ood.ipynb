{
 "cells": [
  {
   "cell_type": "code",
   "execution_count": 13,
   "id": "initial_id",
   "metadata": {
    "ExecuteTime": {
     "end_time": "2025-03-10T19:05:43.712077Z",
     "start_time": "2025-03-10T19:05:42.723340Z"
    },
    "collapsed": true
   },
   "outputs": [],
   "source": [
    "import pandas as pd"
   ]
  },
  {
   "cell_type": "code",
   "execution_count": 14,
   "id": "8ead69e83c4e6ba3",
   "metadata": {
    "ExecuteTime": {
     "end_time": "2025-03-10T19:16:02.917971Z",
     "start_time": "2025-03-10T19:16:02.911444Z"
    }
   },
   "outputs": [],
   "source": [
    "ood = pd.read_csv('../data/ood_table_paper.csv', index_col=[0,1], header=[0,1,2])"
   ]
  },
  {
   "cell_type": "code",
   "execution_count": 15,
   "id": "d13ebfa9b047405d",
   "metadata": {
    "ExecuteTime": {
     "end_time": "2025-03-10T19:16:03.166154Z",
     "start_time": "2025-03-10T19:16:03.160963Z"
    }
   },
   "outputs": [],
   "source": [
    "# ood = ood.loc[['Clay v1', 'Prithvi 1.0 100M', 'Prithvi 2.0 300M']]\n",
    "\n",
    "test = ood[('test mIoU', 'mean')][['reBEN_7k', 'sen1floods11']]\n",
    "ood = ood[('test ood mIoU', 'mean')][['reBEN_7k', 'sen1floods11']]"
   ]
  },
  {
   "cell_type": "code",
   "execution_count": 16,
   "id": "7e60ad4a",
   "metadata": {},
   "outputs": [
    {
     "data": {
      "text/plain": [
       "dataset\n",
       "reBEN_7k       -7.794851\n",
       "sen1floods11   -7.310057\n",
       "dtype: float64"
      ]
     },
     "execution_count": 16,
     "metadata": {},
     "output_type": "execute_result"
    }
   ],
   "source": [
    "(ood - test).mean()"
   ]
  },
  {
   "cell_type": "code",
   "execution_count": 17,
   "id": "953a56c6",
   "metadata": {},
   "outputs": [
    {
     "data": {
      "text/plain": [
       "model             peft_type   \n",
       "DeCUR             Full FT         -4.741480\n",
       "Clay v1           VPT             -5.236036\n",
       "DeCUR             Linear Prob.    -5.533393\n",
       "Prithvi 2.0 300M  LoRA            -5.547061\n",
       "                  Linear Prob.    -5.635811\n",
       "Clay v1           Full FT         -5.844307\n",
       "Prithvi 2.0 300M  VPT             -5.847322\n",
       "                  ViT Adapter     -5.867713\n",
       "Clay v1           LoRA            -5.880208\n",
       "UNet (Rand.)      Full FT         -6.068003\n",
       "Prithvi 1.0 100M  Linear Prob.    -6.118564\n",
       "                  ViT Adapter     -6.323232\n",
       "Clay v1           Linear Prob.    -6.477876\n",
       "ViT (IN-21K)      Full FT         -7.767607\n",
       "Prithvi 2.0 300M  Full FT         -8.678156\n",
       "Prithvi 1.0 100M  Full FT        -11.075021\n",
       "                  VPT            -16.002604\n",
       "                  LoRA           -17.299779\n",
       "dtype: float64"
      ]
     },
     "execution_count": 17,
     "metadata": {},
     "output_type": "execute_result"
    }
   ],
   "source": [
    "(ood - test).mean(axis=1).sort_values(ascending=False)"
   ]
  },
  {
   "cell_type": "code",
   "execution_count": 18,
   "id": "c4822315",
   "metadata": {},
   "outputs": [
    {
     "data": {
      "text/plain": [
       "peft_type\n",
       "Full FT        -7.362429\n",
       "Linear Prob.   -5.941411\n",
       "LoRA           -9.575683\n",
       "VPT            -9.028654\n",
       "ViT Adapter    -6.095473\n",
       "dtype: float64"
      ]
     },
     "execution_count": 18,
     "metadata": {},
     "output_type": "execute_result"
    }
   ],
   "source": [
    "(ood - test).mean(axis=1).groupby(level=1).mean()"
   ]
  },
  {
   "cell_type": "code",
   "execution_count": 19,
   "id": "88ee1037",
   "metadata": {},
   "outputs": [
    {
     "data": {
      "text/html": [
       "<div>\n",
       "<style scoped>\n",
       "    .dataframe tbody tr th:only-of-type {\n",
       "        vertical-align: middle;\n",
       "    }\n",
       "\n",
       "    .dataframe tbody tr th {\n",
       "        vertical-align: top;\n",
       "    }\n",
       "\n",
       "    .dataframe thead th {\n",
       "        text-align: right;\n",
       "    }\n",
       "</style>\n",
       "<table border=\"1\" class=\"dataframe\">\n",
       "  <thead>\n",
       "    <tr style=\"text-align: right;\">\n",
       "      <th></th>\n",
       "      <th>dataset</th>\n",
       "      <th>reBEN_7k</th>\n",
       "      <th>sen1floods11</th>\n",
       "      <th>reBEN_7k</th>\n",
       "      <th>sen1floods11</th>\n",
       "    </tr>\n",
       "    <tr>\n",
       "      <th>model</th>\n",
       "      <th>peft_type</th>\n",
       "      <th></th>\n",
       "      <th></th>\n",
       "      <th></th>\n",
       "      <th></th>\n",
       "    </tr>\n",
       "  </thead>\n",
       "  <tbody>\n",
       "    <tr>\n",
       "      <th>UNet (Rand.)</th>\n",
       "      <th>Full FT</th>\n",
       "      <td>34.623189</td>\n",
       "      <td>90.745977</td>\n",
       "      <td>25.426192</td>\n",
       "      <td>87.806967</td>\n",
       "    </tr>\n",
       "    <tr>\n",
       "      <th>ViT (IN-21K)</th>\n",
       "      <th>Full FT</th>\n",
       "      <td>36.149976</td>\n",
       "      <td>89.188783</td>\n",
       "      <td>27.136670</td>\n",
       "      <td>82.666875</td>\n",
       "    </tr>\n",
       "    <tr>\n",
       "      <th rowspan=\"2\" valign=\"top\">DeCUR</th>\n",
       "      <th>Linear Prob.</th>\n",
       "      <td>28.292587</td>\n",
       "      <td>80.830714</td>\n",
       "      <td>23.293063</td>\n",
       "      <td>74.763453</td>\n",
       "    </tr>\n",
       "    <tr>\n",
       "      <th>Full FT</th>\n",
       "      <td>36.053728</td>\n",
       "      <td>86.872013</td>\n",
       "      <td>27.598070</td>\n",
       "      <td>85.844710</td>\n",
       "    </tr>\n",
       "    <tr>\n",
       "      <th rowspan=\"4\" valign=\"top\">Clay v1</th>\n",
       "      <th>Linear Prob.</th>\n",
       "      <td>32.649382</td>\n",
       "      <td>89.568763</td>\n",
       "      <td>24.379566</td>\n",
       "      <td>84.882827</td>\n",
       "    </tr>\n",
       "    <tr>\n",
       "      <th>VPT</th>\n",
       "      <td>36.867282</td>\n",
       "      <td>89.666263</td>\n",
       "      <td>28.772235</td>\n",
       "      <td>87.289238</td>\n",
       "    </tr>\n",
       "    <tr>\n",
       "      <th>LoRA</th>\n",
       "      <td>38.671525</td>\n",
       "      <td>90.414205</td>\n",
       "      <td>28.442053</td>\n",
       "      <td>88.883260</td>\n",
       "    </tr>\n",
       "    <tr>\n",
       "      <th>Full FT</th>\n",
       "      <td>38.673869</td>\n",
       "      <td>90.409553</td>\n",
       "      <td>29.067068</td>\n",
       "      <td>88.327739</td>\n",
       "    </tr>\n",
       "    <tr>\n",
       "      <th rowspan=\"5\" valign=\"top\">Prithvi 1.0 100M</th>\n",
       "      <th>Linear Prob.</th>\n",
       "      <td>27.071155</td>\n",
       "      <td>88.778411</td>\n",
       "      <td>24.038854</td>\n",
       "      <td>79.573585</td>\n",
       "    </tr>\n",
       "    <tr>\n",
       "      <th>VPT</th>\n",
       "      <td>29.979022</td>\n",
       "      <td>89.028211</td>\n",
       "      <td>22.651087</td>\n",
       "      <td>64.350938</td>\n",
       "    </tr>\n",
       "    <tr>\n",
       "      <th>LoRA</th>\n",
       "      <td>30.604389</td>\n",
       "      <td>89.332145</td>\n",
       "      <td>24.091523</td>\n",
       "      <td>61.245455</td>\n",
       "    </tr>\n",
       "    <tr>\n",
       "      <th>ViT Adapter</th>\n",
       "      <td>32.897354</td>\n",
       "      <td>87.717648</td>\n",
       "      <td>25.661051</td>\n",
       "      <td>82.307487</td>\n",
       "    </tr>\n",
       "    <tr>\n",
       "      <th>Full FT</th>\n",
       "      <td>31.822742</td>\n",
       "      <td>89.017659</td>\n",
       "      <td>24.528746</td>\n",
       "      <td>74.161612</td>\n",
       "    </tr>\n",
       "    <tr>\n",
       "      <th rowspan=\"5\" valign=\"top\">Prithvi 2.0 300M</th>\n",
       "      <th>Linear Prob.</th>\n",
       "      <td>31.248061</td>\n",
       "      <td>88.077939</td>\n",
       "      <td>24.863354</td>\n",
       "      <td>83.191024</td>\n",
       "    </tr>\n",
       "    <tr>\n",
       "      <th>VPT</th>\n",
       "      <td>38.400177</td>\n",
       "      <td>89.308428</td>\n",
       "      <td>29.825146</td>\n",
       "      <td>86.188815</td>\n",
       "    </tr>\n",
       "    <tr>\n",
       "      <th>LoRA</th>\n",
       "      <td>38.841950</td>\n",
       "      <td>90.035521</td>\n",
       "      <td>30.208546</td>\n",
       "      <td>87.574803</td>\n",
       "    </tr>\n",
       "    <tr>\n",
       "      <th>ViT Adapter</th>\n",
       "      <td>35.143083</td>\n",
       "      <td>88.524063</td>\n",
       "      <td>26.992319</td>\n",
       "      <td>84.939400</td>\n",
       "    </tr>\n",
       "    <tr>\n",
       "      <th>Full FT</th>\n",
       "      <td>37.415233</td>\n",
       "      <td>90.130222</td>\n",
       "      <td>28.121840</td>\n",
       "      <td>82.067301</td>\n",
       "    </tr>\n",
       "  </tbody>\n",
       "</table>\n",
       "</div>"
      ],
      "text/plain": [
       "dataset                         reBEN_7k  sen1floods11   reBEN_7k  \\\n",
       "model            peft_type                                          \n",
       "UNet (Rand.)     Full FT       34.623189     90.745977  25.426192   \n",
       "ViT (IN-21K)     Full FT       36.149976     89.188783  27.136670   \n",
       "DeCUR            Linear Prob.  28.292587     80.830714  23.293063   \n",
       "                 Full FT       36.053728     86.872013  27.598070   \n",
       "Clay v1          Linear Prob.  32.649382     89.568763  24.379566   \n",
       "                 VPT           36.867282     89.666263  28.772235   \n",
       "                 LoRA          38.671525     90.414205  28.442053   \n",
       "                 Full FT       38.673869     90.409553  29.067068   \n",
       "Prithvi 1.0 100M Linear Prob.  27.071155     88.778411  24.038854   \n",
       "                 VPT           29.979022     89.028211  22.651087   \n",
       "                 LoRA          30.604389     89.332145  24.091523   \n",
       "                 ViT Adapter   32.897354     87.717648  25.661051   \n",
       "                 Full FT       31.822742     89.017659  24.528746   \n",
       "Prithvi 2.0 300M Linear Prob.  31.248061     88.077939  24.863354   \n",
       "                 VPT           38.400177     89.308428  29.825146   \n",
       "                 LoRA          38.841950     90.035521  30.208546   \n",
       "                 ViT Adapter   35.143083     88.524063  26.992319   \n",
       "                 Full FT       37.415233     90.130222  28.121840   \n",
       "\n",
       "dataset                        sen1floods11  \n",
       "model            peft_type                   \n",
       "UNet (Rand.)     Full FT          87.806967  \n",
       "ViT (IN-21K)     Full FT          82.666875  \n",
       "DeCUR            Linear Prob.     74.763453  \n",
       "                 Full FT          85.844710  \n",
       "Clay v1          Linear Prob.     84.882827  \n",
       "                 VPT              87.289238  \n",
       "                 LoRA             88.883260  \n",
       "                 Full FT          88.327739  \n",
       "Prithvi 1.0 100M Linear Prob.     79.573585  \n",
       "                 VPT              64.350938  \n",
       "                 LoRA             61.245455  \n",
       "                 ViT Adapter      82.307487  \n",
       "                 Full FT          74.161612  \n",
       "Prithvi 2.0 300M Linear Prob.     83.191024  \n",
       "                 VPT              86.188815  \n",
       "                 LoRA             87.574803  \n",
       "                 ViT Adapter      84.939400  \n",
       "                 Full FT          82.067301  "
      ]
     },
     "execution_count": 19,
     "metadata": {},
     "output_type": "execute_result"
    }
   ],
   "source": [
    "pd.concat([test, ood], axis=1)"
   ]
  },
  {
   "cell_type": "code",
   "execution_count": 20,
   "id": "903f084b",
   "metadata": {},
   "outputs": [
    {
     "name": "stdout",
     "output_type": "stream",
     "text": [
      "Full FT \n",
      " model             peft_type\n",
      "DeCUR             Full FT      -4.741480\n",
      "Clay v1           Full FT      -5.844307\n",
      "UNet (Rand.)      Full FT      -6.068003\n",
      "ViT (IN-21K)      Full FT      -7.767607\n",
      "Prithvi 2.0 300M  Full FT      -8.678156\n",
      "Prithvi 1.0 100M  Full FT     -11.075021\n",
      "dtype: float64\n",
      "Linear Prob. \n",
      " model             peft_type   \n",
      "DeCUR             Linear Prob.   -5.533393\n",
      "Prithvi 2.0 300M  Linear Prob.   -5.635811\n",
      "Prithvi 1.0 100M  Linear Prob.   -6.118564\n",
      "Clay v1           Linear Prob.   -6.477876\n",
      "dtype: float64\n",
      "LoRA \n",
      " model             peft_type\n",
      "Prithvi 2.0 300M  LoRA         -5.547061\n",
      "Clay v1           LoRA         -5.880208\n",
      "Prithvi 1.0 100M  LoRA        -17.299779\n",
      "dtype: float64\n",
      "VPT \n",
      " model             peft_type\n",
      "Clay v1           VPT          -5.236036\n",
      "Prithvi 2.0 300M  VPT          -5.847322\n",
      "Prithvi 1.0 100M  VPT         -16.002604\n",
      "dtype: float64\n",
      "ViT Adapter \n",
      " model             peft_type  \n",
      "Prithvi 2.0 300M  ViT Adapter   -5.867713\n",
      "Prithvi 1.0 100M  ViT Adapter   -6.323232\n",
      "dtype: float64\n"
     ]
    }
   ],
   "source": [
    "for i, group in (ood - test).mean(axis=1).groupby(level=1):\n",
    "    print(i, '\\n', group.sort_values(ascending=False))"
   ]
  },
  {
   "cell_type": "code",
   "execution_count": 21,
   "id": "254ca20e00d4e691",
   "metadata": {
    "ExecuteTime": {
     "end_time": "2025-03-10T19:26:37.623458Z",
     "start_time": "2025-03-10T19:26:37.617025Z"
    }
   },
   "outputs": [
    {
     "data": {
      "text/plain": [
       "model             peft_type   \n",
       "Prithvi 2.0 300M  LoRA            58.891674\n",
       "Clay v1           Full FT         58.697404\n",
       "                  LoRA            58.662657\n",
       "                  VPT             58.030736\n",
       "Prithvi 2.0 300M  VPT             58.006980\n",
       "DeCUR             Full FT         56.721390\n",
       "UNet (Rand.)      Full FT         56.616580\n",
       "Prithvi 2.0 300M  ViT Adapter     55.965859\n",
       "                  Full FT         55.094571\n",
       "ViT (IN-21K)      Full FT         54.901772\n",
       "Clay v1           Linear Prob.    54.631197\n",
       "Prithvi 2.0 300M  Linear Prob.    54.027189\n",
       "Prithvi 1.0 100M  ViT Adapter     53.984269\n",
       "                  Linear Prob.    51.806219\n",
       "                  Full FT         49.345179\n",
       "DeCUR             Linear Prob.    49.028258\n",
       "Prithvi 1.0 100M  VPT             43.501012\n",
       "                  LoRA            42.668489\n",
       "dtype: float64"
      ]
     },
     "execution_count": 21,
     "metadata": {},
     "output_type": "execute_result"
    }
   ],
   "source": [
    "ood.mean(axis=1).sort_values(ascending=False)"
   ]
  },
  {
   "cell_type": "code",
   "execution_count": 22,
   "id": "775261891b757ca9",
   "metadata": {
    "ExecuteTime": {
     "end_time": "2025-03-10T19:27:16.067195Z",
     "start_time": "2025-03-10T19:27:16.063502Z"
    }
   },
   "outputs": [
    {
     "data": {
      "text/plain": [
       "model             peft_type   \n",
       "Clay v1           LoRA            64.542865\n",
       "                  Full FT         64.541711\n",
       "Prithvi 2.0 300M  LoRA            64.438736\n",
       "                  VPT             63.854302\n",
       "                  Full FT         63.772727\n",
       "Clay v1           VPT             63.266772\n",
       "UNet (Rand.)      Full FT         62.684583\n",
       "ViT (IN-21K)      Full FT         62.669379\n",
       "Prithvi 2.0 300M  ViT Adapter     61.833573\n",
       "DeCUR             Full FT         61.462870\n",
       "Clay v1           Linear Prob.    61.109073\n",
       "Prithvi 1.0 100M  Full FT         60.420201\n",
       "                  ViT Adapter     60.307501\n",
       "                  LoRA            59.968267\n",
       "Prithvi 2.0 300M  Linear Prob.    59.663000\n",
       "Prithvi 1.0 100M  VPT             59.503616\n",
       "                  Linear Prob.    57.924783\n",
       "DeCUR             Linear Prob.    54.561650\n",
       "dtype: float64"
      ]
     },
     "execution_count": 22,
     "metadata": {},
     "output_type": "execute_result"
    }
   ],
   "source": [
    "test.mean(axis=1).sort_values(ascending=False)"
   ]
  },
  {
   "cell_type": "code",
   "execution_count": null,
   "id": "91f59dd155f80ebe",
   "metadata": {},
   "outputs": [],
   "source": []
  }
 ],
 "metadata": {
  "kernelspec": {
   "display_name": "default",
   "language": "python",
   "name": "python3"
  },
  "language_info": {
   "codemirror_mode": {
    "name": "ipython",
    "version": 3
   },
   "file_extension": ".py",
   "mimetype": "text/x-python",
   "name": "python",
   "nbconvert_exporter": "python",
   "pygments_lexer": "ipython3",
   "version": "3.13.2"
  }
 },
 "nbformat": 4,
 "nbformat_minor": 5
}
